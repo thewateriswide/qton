{
 "cells": [
  {
   "cell_type": "markdown",
   "metadata": {},
   "source": [
    "# Tutorial - Basic\n",
    "---\n",
    "This tutorial demonstrates the basic use of qton."
   ]
  },
  {
   "cell_type": "markdown",
   "metadata": {},
   "source": [
    "## To create a quantum circuit object\n",
    "\n",
    "To create a quantum circuit, using the class 'Circuit'."
   ]
  },
  {
   "cell_type": "code",
   "execution_count": 1,
   "metadata": {},
   "outputs": [],
   "source": [
    "from qton import Circuit\n",
    "\n",
    "num_qubits = 2\n",
    "circ = Circuit(num_qubits)"
   ]
  },
  {
   "cell_type": "markdown",
   "metadata": {},
   "source": [
    "'circ' now is a circuit with 2 qubits. Its state vector can be invoked as below."
   ]
  },
  {
   "cell_type": "code",
   "execution_count": 2,
   "metadata": {},
   "outputs": [
    {
     "data": {
      "text/plain": [
       "array([1.+0.j, 0.+0.j, 0.+0.j, 0.+0.j])"
      ]
     },
     "execution_count": 2,
     "metadata": {},
     "output_type": "execute_result"
    }
   ],
   "source": [
    "circ.state"
   ]
  },
  {
   "cell_type": "markdown",
   "metadata": {},
   "source": [
    "By default, the circuit state is initialized to the state corresponds to all qubits in $Z$ up mode."
   ]
  },
  {
   "cell_type": "markdown",
   "metadata": {},
   "source": [
    "## To create a Bell state\n",
    "\n",
    "A Bell state usually means  \n",
    "$$ \\frac{|00\\rangle + |11\\rangle}{\\sqrt 2} .$$"
   ]
  },
  {
   "cell_type": "code",
   "execution_count": 3,
   "metadata": {},
   "outputs": [],
   "source": [
    "circ.h(0)\n",
    "circ.cx(0, 1)"
   ]
  },
  {
   "cell_type": "markdown",
   "metadata": {},
   "source": [
    "We act a Hadamard gate on qubit 0 followed by a CNOT gate on both qubit 0 and 1. In our convention, qubits are indexed by integers."
   ]
  },
  {
   "cell_type": "markdown",
   "metadata": {},
   "source": [
    "Show the current state,"
   ]
  },
  {
   "cell_type": "code",
   "execution_count": 4,
   "metadata": {},
   "outputs": [
    {
     "data": {
      "text/plain": [
       "array([0.70710678+0.j, 0.        +0.j, 0.        +0.j, 0.70710678+0.j])"
      ]
     },
     "execution_count": 4,
     "metadata": {},
     "output_type": "execute_result"
    }
   ],
   "source": [
    "circ.state"
   ]
  },
  {
   "cell_type": "markdown",
   "metadata": {},
   "source": [
    "Which is just the **Bell state** we metioned above."
   ]
  },
  {
   "cell_type": "markdown",
   "metadata": {},
   "source": [
    "## To measure a circuit\n",
    "\n",
    "To measure a circuit, using the method 'measure'"
   ]
  },
  {
   "cell_type": "code",
   "execution_count": 5,
   "metadata": {},
   "outputs": [
    {
     "data": {
      "text/plain": [
       "3"
      ]
     },
     "execution_count": 5,
     "metadata": {},
     "output_type": "execute_result"
    }
   ],
   "source": [
    "circ.measure()"
   ]
  },
  {
   "cell_type": "markdown",
   "metadata": {},
   "source": [
    "This method returns a basis index. For example, '2' means it returns a result on basis $|10\\rangle$."
   ]
  },
  {
   "cell_type": "markdown",
   "metadata": {},
   "source": [
    "The 'measure' method doesn't damage the circuit state like the real one does.  So you can repeat it to increase the statistics."
   ]
  },
  {
   "cell_type": "markdown",
   "metadata": {},
   "source": [
    "## Statistics on the Bell state"
   ]
  },
  {
   "cell_type": "code",
   "execution_count": 6,
   "metadata": {},
   "outputs": [],
   "source": [
    "result = [0, 0, 0, 0]\n",
    "N = 100  # Times of the measurements.\n",
    "for i in range(N):\n",
    "    basis = circ.measure()\n",
    "    result[basis] += 1"
   ]
  },
  {
   "cell_type": "markdown",
   "metadata": {},
   "source": [
    "Check the results below."
   ]
  },
  {
   "cell_type": "code",
   "execution_count": 7,
   "metadata": {},
   "outputs": [
    {
     "data": {
      "text/plain": [
       "[51, 0, 0, 49]"
      ]
     },
     "execution_count": 7,
     "metadata": {},
     "output_type": "execute_result"
    }
   ],
   "source": [
    "result"
   ]
  },
  {
   "cell_type": "markdown",
   "metadata": {},
   "source": [
    "## To initialize a circuit\n",
    "\n",
    "Since the state vector is just a numpy array,  you can initialize it like any numpy vector.  'Circuit' class also include a 'initialize' method."
   ]
  },
  {
   "cell_type": "code",
   "execution_count": 8,
   "metadata": {},
   "outputs": [],
   "source": [
    "circ.initialize([0, 0, 0, 1])"
   ]
  },
  {
   "cell_type": "code",
   "execution_count": 9,
   "metadata": {},
   "outputs": [
    {
     "data": {
      "text/plain": [
       "array([0.+0.j, 0.+0.j, 0.+0.j, 1.+0.j])"
      ]
     },
     "execution_count": 9,
     "metadata": {},
     "output_type": "execute_result"
    }
   ],
   "source": [
    "circ.state"
   ]
  },
  {
   "cell_type": "markdown",
   "metadata": {},
   "source": [
    "Note the vector you use to initialize a circuit must be normalized in advance.  And its length must be consistent with the qubit number."
   ]
  },
  {
   "cell_type": "markdown",
   "metadata": {},
   "source": [
    "## A list for gate methods\n",
    "\n",
    "All gate prototypes can be found in module 'gate.py'."
   ]
  },
  {
   "cell_type": "markdown",
   "metadata": {},
   "source": [
    "**single qubit gate**  \n",
    "Assuming all of them act on the 0th qubit of an object 'circ'.  \n",
    "\n",
    "circ.h(0)  # Hadamard gate  \n",
    "circ.x(0)  # Pauli X gate  \n",
    "circ.y(0)  # Pauli Y gate  \n",
    "circ.z(0)  # Pauli Z gate  \n",
    "circ.s(0)  # Phase gate  \n",
    "circ.t(0)  # pi/8 gate  \n",
    "\n",
    "These have an extra custom parameter in, which we set it to 'pi'.  \n",
    "circ.rx(pi, 0)  # Rotation along X axis  \n",
    "circ.ry(pi, 0)  # Rotation along Y axis  \n",
    "circ.rz(pi, 0)  # Rotation along Z axis  \n",
    "\n",
    "**double qubit gate**  \n",
    "For all controlled gates, assuming qubit 0 is control, qubit 1 is target.\n",
    "\n",
    "circ.ch(0, 1)  # Controlled Hadamard gate  \n",
    "circ.cx(0, 1)  # Controlled X gate, also known as Controlled Not gate  \n",
    "circ.cy(0, 1)  # Controlled Y gate  \n",
    "circ.cz(0, 1)  # Controlled Z gate  \n",
    "circ.sw(0, 1)  # Swap gate  \n",
    "\n",
    "'pi' is still an example for the custom parameter.  \n",
    "circ.crx(pi, 0, 1)  # Controlled rotation along X axis  \n",
    "circ.cry(pi, 0, 1)  # Controlled rotation along Y axis  \n",
    "circ.crz(pi, 0, 1)  # Controlled rotation along Z axis  "
   ]
  }
 ],
 "metadata": {
  "kernelspec": {
   "display_name": "Python 3",
   "language": "python",
   "name": "python3"
  },
  "language_info": {
   "codemirror_mode": {
    "name": "ipython",
    "version": 3
   },
   "file_extension": ".py",
   "mimetype": "text/x-python",
   "name": "python",
   "nbconvert_exporter": "python",
   "pygments_lexer": "ipython3",
   "version": "3.7.9"
  }
 },
 "nbformat": 4,
 "nbformat_minor": 4
}
