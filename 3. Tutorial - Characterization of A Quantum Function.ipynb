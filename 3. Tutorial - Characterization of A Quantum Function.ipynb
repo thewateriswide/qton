{
 "cells": [
  {
   "cell_type": "markdown",
   "metadata": {},
   "source": [
    "# Tutorial - Characterization of A Quantum Function\n",
    "---\n",
    "Sometimes we may be interested in a balck box function. A complete characterization of it is to write down its corresponding representation. In this tutorial we demonstrate how to do this to a quantum function."
   ]
  },
  {
   "cell_type": "code",
   "execution_count": 1,
   "metadata": {},
   "outputs": [],
   "source": [
    "import numpy as np\n",
    "from qton import Circuit"
   ]
  },
  {
   "cell_type": "markdown",
   "metadata": {},
   "source": [
    "## Definition of function\n",
    "We create a black box function, which can be used to prepare a so-called GHZ state. "
   ]
  },
  {
   "cell_type": "code",
   "execution_count": 8,
   "metadata": {},
   "outputs": [],
   "source": [
    "def black_box_function(obj):\n",
    "    '''\n",
    "    This function can prepare a Bell or GHZ state.\n",
    "    'obj' should be a Circuit object.\n",
    "    '''\n",
    "    num_qubits = obj.number_of_qubits\n",
    "    obj.h(0)\n",
    "    for i in range(1, num_qubits):\n",
    "        obj.cx(0, i)\n",
    "    return"
   ]
  },
  {
   "cell_type": "markdown",
   "metadata": {},
   "source": [
    "Let's check its effect."
   ]
  },
  {
   "cell_type": "code",
   "execution_count": 3,
   "metadata": {},
   "outputs": [
    {
     "data": {
      "text/plain": [
       "array([0.70710678+0.j, 0.        +0.j, 0.        +0.j, 0.70710678+0.j])"
      ]
     },
     "execution_count": 3,
     "metadata": {},
     "output_type": "execute_result"
    }
   ],
   "source": [
    "n = 2  # Number of qubits.\n",
    "circ = Circuit(n)\n",
    "black_box_function(circ)\n",
    "\n",
    "circ.state"
   ]
  },
  {
   "cell_type": "markdown",
   "metadata": {},
   "source": [
    "## Representation of the function\n",
    "The balck box function has a unitary matrix representation. Our aim is to find it out. Suppose $U_f$ is this function, its matrix elements are $\\langle z_i|U_f|z_j \\rangle$. Here $|z_i\\rangle$ is the $i$th basis of the circuit."
   ]
  },
  {
   "cell_type": "code",
   "execution_count": 4,
   "metadata": {},
   "outputs": [],
   "source": [
    "matrix = np.zeros((2**n, 2**n), complex)  # Matrix representation of the black box function.\n",
    "for i in range(2**n):\n",
    "    bra = np.zeros(2**n)\n",
    "    bra[i] = 1.\n",
    "    for j in range(2**n):\n",
    "        ket = np.zeros(2**n)\n",
    "        ket[j] = 1.\n",
    "        circ.initialize(ket)  # Reset circuit's state with 'ket'.\n",
    "        black_box_function(circ)\n",
    "        matrix[i, j] = np.dot(np.conj(bra), circ.state)"
   ]
  },
  {
   "cell_type": "markdown",
   "metadata": {},
   "source": [
    "Display the matrix representation,"
   ]
  },
  {
   "cell_type": "code",
   "execution_count": 5,
   "metadata": {},
   "outputs": [
    {
     "data": {
      "text/plain": [
       "array([[ 0.70710678,  0.        ,  0.70710678,  0.        ],\n",
       "       [ 0.        ,  0.70710678,  0.        ,  0.70710678],\n",
       "       [ 0.        ,  0.70710678,  0.        , -0.70710678],\n",
       "       [ 0.70710678,  0.        , -0.70710678,  0.        ]])"
      ]
     },
     "execution_count": 5,
     "metadata": {},
     "output_type": "execute_result"
    }
   ],
   "source": [
    "matrix.real"
   ]
  },
  {
   "cell_type": "code",
   "execution_count": 6,
   "metadata": {},
   "outputs": [
    {
     "data": {
      "text/plain": [
       "array([[0., 0., 0., 0.],\n",
       "       [0., 0., 0., 0.],\n",
       "       [0., 0., 0., 0.],\n",
       "       [0., 0., 0., 0.]])"
      ]
     },
     "execution_count": 6,
     "metadata": {},
     "output_type": "execute_result"
    }
   ],
   "source": [
    "matrix.imag"
   ]
  },
  {
   "cell_type": "markdown",
   "metadata": {},
   "source": [
    "Let's check if this matrix can produce a GHZ state."
   ]
  },
  {
   "cell_type": "code",
   "execution_count": 7,
   "metadata": {},
   "outputs": [
    {
     "data": {
      "text/plain": [
       "array([0.70710678+0.j, 0.        +0.j, 0.        +0.j, 0.70710678+0.j])"
      ]
     },
     "execution_count": 7,
     "metadata": {},
     "output_type": "execute_result"
    }
   ],
   "source": [
    "ket = np.zeros(2**n)\n",
    "ket[0] = 1.\n",
    "\n",
    "np.matmul(matrix, ket)"
   ]
  },
  {
   "cell_type": "markdown",
   "metadata": {},
   "source": [
    "This is same as above, which backs our assert up."
   ]
  }
 ],
 "metadata": {
  "kernelspec": {
   "display_name": "Python 3",
   "language": "python",
   "name": "python3"
  },
  "language_info": {
   "codemirror_mode": {
    "name": "ipython",
    "version": 3
   },
   "file_extension": ".py",
   "mimetype": "text/x-python",
   "name": "python",
   "nbconvert_exporter": "python",
   "pygments_lexer": "ipython3",
   "version": "3.7.9"
  }
 },
 "nbformat": 4,
 "nbformat_minor": 4
}
